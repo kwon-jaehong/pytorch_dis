{
 "cells": [
  {
   "cell_type": "code",
   "execution_count": 1,
   "id": "81623bb3",
   "metadata": {},
   "outputs": [],
   "source": [
    "import torch\n",
    "import scipy.io as sio\n",
    "import numpy as np\n",
    "import cv2\n",
    "import copy\n",
    "import os\n",
    "import time\n",
    "from craft import CRAFT\n",
    "\n",
    "import torch.onnx\n",
    "\n",
    "\n",
    "\n",
    "# net = craft().cuda() \n",
    "\n",
    "\n",
    "net = CRAFT().cuda() "
   ]
  },
  {
   "cell_type": "code",
   "execution_count": 2,
   "id": "f6753972",
   "metadata": {},
   "outputs": [
    {
     "name": "stderr",
     "output_type": "stream",
     "text": [
      "/usr/local/lib/python3.7/dist-packages/torch/onnx/symbolic_helper.py:347: UserWarning: You are trying to export the model with onnx:Upsample for ONNX opset version 9. This operator might cause results to not match the expected results by PyTorch.\n",
      "ONNX's Upsample/Resize operator did not match Pytorch's Interpolation until opset 11. Attributes to determine how to transform the input were added in onnx:Resize in opset 11 to support Pytorch's behavior (like coordinate_transformation_mode and nearest_mode).\n",
      "We recommend using opset 11 and above for models using this operator. \n",
      "  \"\" + str(_export_onnx_opset_version) + \". \"\n"
     ]
    }
   ],
   "source": [
    "dummy_data = torch.empty(1, 3, 224, 224, dtype = torch.float32)\n",
    "\n",
    "dummy_data = dummy_data.cuda()\n",
    "\n",
    "ONNX_FILE_PATH = './temp.onnx'\n",
    "\n",
    "torch.onnx.export(net, dummy_data, ONNX_FILE_PATH, input_names=['input'],output_names=['output'], export_params=True)\n"
   ]
  },
  {
   "cell_type": "code",
   "execution_count": null,
   "id": "4c8d1948",
   "metadata": {},
   "outputs": [],
   "source": []
  }
 ],
 "metadata": {
  "kernelspec": {
   "display_name": "Python 3",
   "language": "python",
   "name": "python3"
  },
  "language_info": {
   "codemirror_mode": {
    "name": "ipython",
    "version": 3
   },
   "file_extension": ".py",
   "mimetype": "text/x-python",
   "name": "python",
   "nbconvert_exporter": "python",
   "pygments_lexer": "ipython3",
   "version": "3.7.5"
  }
 },
 "nbformat": 4,
 "nbformat_minor": 5
}
