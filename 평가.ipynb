{
 "cells": [
  {
   "cell_type": "code",
   "execution_count": 4,
   "id": "0c0342a2",
   "metadata": {},
   "outputs": [
    {
     "data": {
      "text/plain": [
       "True"
      ]
     },
     "execution_count": 4,
     "metadata": {},
     "output_type": "execute_result"
    }
   ],
   "source": [
    "# ffmpeg -r 2 -i ./es_img/%06d.png -c:v libx264 -vf fps=25 -pix_fmt yuv420p ./out.mp4\n",
    "\n",
    "import torch\n",
    "import scipy.io as sio\n",
    "import numpy as np\n",
    "import cv2\n",
    "import copy\n",
    "import os\n",
    "from craft import CRAFT\n",
    "\n",
    "\n",
    "os.environ['CUDA_VISIBLE_DEVICES'] = '0'\n",
    "\n",
    "pretrained_model_path = \"./craft_mlt_25k.pth\"\n",
    "img_path = \"./picture/pic1.jpg\"\n",
    "img = cv2.imread(img_path)\n",
    "img = cv2.resize(img, (2240, 1260))\n",
    "cv2.imwrite('picture/ori_img.jpg', img)\n",
    "model = CRAFT(pretrained=True).cuda()\n",
    "model.load_state_dict(torch.load(pretrained_model_path))\n",
    "model.eval()\n",
    "\n",
    "img = torch.FloatTensor(img).cuda().permute(2, 0, 1).unsqueeze(0)\n",
    "output, _ = model(img)\n",
    "char_label = output[:,:,:,0].squeeze()\n",
    "char_label = char_label.cpu().detach().numpy()\n",
    "char_label = np.clip(char_label, 0, 255).astype(np.uint8)\n",
    "char_label = cv2.applyColorMap(char_label, cv2.COLORMAP_JET)\n",
    "\n",
    "interval_label = output[:,:,:,1].squeeze()\n",
    "interval_label = interval_label.cpu().detach().numpy()\n",
    "interval_label = np.clip(interval_label, 0, 255).astype(np.uint8)\n",
    "interval_label = cv2.applyColorMap(interval_label, cv2.COLORMAP_JET)\n",
    "cv2.imwrite('picture/char.jpg', char_label)\n",
    "cv2.imwrite('picture/interval.jpg', interval_label)\n"
   ]
  },
  {
   "cell_type": "code",
   "execution_count": null,
   "id": "014aa0f2",
   "metadata": {},
   "outputs": [],
   "source": []
  }
 ],
 "metadata": {
  "kernelspec": {
   "display_name": "Python 3",
   "language": "python",
   "name": "python3"
  },
  "language_info": {
   "codemirror_mode": {
    "name": "ipython",
    "version": 3
   },
   "file_extension": ".py",
   "mimetype": "text/x-python",
   "name": "python",
   "nbconvert_exporter": "python",
   "pygments_lexer": "ipython3",
   "version": "3.7.5"
  }
 },
 "nbformat": 4,
 "nbformat_minor": 5
}
