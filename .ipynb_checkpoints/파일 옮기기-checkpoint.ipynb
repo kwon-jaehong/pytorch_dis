{
 "cells": [
  {
   "cell_type": "code",
   "execution_count": 1,
   "id": "1d1a46f4",
   "metadata": {},
   "outputs": [],
   "source": [
    "import os\n",
    "import shutil\n",
    "\n",
    "target_dir = \"./es_img/\"\n",
    "cp_dir = \"./cp_img/\"\n",
    "\n",
    "files = os.listdir(target_dir)\n",
    "\n",
    "if not os.path.exists(cp_dir):\n",
    "    os.mkdir(cp_dir)\n",
    "\n",
    "for file in files:\n",
    "    if 'jpg' in file:\n",
    "        \n",
    "        \n",
    "#         print( file.split('_')[0].zfill(6)+'.jpg' )\n",
    "        \n",
    "#         file_rename = re\n",
    "#         print(file.st)\n",
    "        shutil.copy(target_dir + file, cp_dir + file.split('_')[0].zfill(6)+'.jpg')\n",
    "#         print('{} has been copied in new folder!'.format(file))"
   ]
  },
  {
   "cell_type": "code",
   "execution_count": null,
   "id": "f5f9fcce",
   "metadata": {},
   "outputs": [],
   "source": []
  }
 ],
 "metadata": {
  "kernelspec": {
   "display_name": "Python 3",
   "language": "python",
   "name": "python3"
  },
  "language_info": {
   "codemirror_mode": {
    "name": "ipython",
    "version": 3
   },
   "file_extension": ".py",
   "mimetype": "text/x-python",
   "name": "python",
   "nbconvert_exporter": "python",
   "pygments_lexer": "ipython3",
   "version": "3.7.5"
  }
 },
 "nbformat": 4,
 "nbformat_minor": 5
}
