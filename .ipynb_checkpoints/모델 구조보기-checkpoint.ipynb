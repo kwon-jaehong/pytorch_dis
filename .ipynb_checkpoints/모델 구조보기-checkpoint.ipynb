{
 "cells": [
  {
   "cell_type": "code",
   "execution_count": 1,
   "id": "4ca9405d",
   "metadata": {},
   "outputs": [
    {
     "ename": "NameError",
     "evalue": "name 'craft' is not defined",
     "output_type": "error",
     "traceback": [
      "\u001b[0;31m---------------------------------------------------------------------------\u001b[0m",
      "\u001b[0;31mNameError\u001b[0m                                 Traceback (most recent call last)",
      "\u001b[0;32m<ipython-input-1-0ed7c70d4ae1>\u001b[0m in \u001b[0;36m<module>\u001b[0;34m\u001b[0m\n\u001b[1;32m     15\u001b[0m \u001b[0;34m\u001b[0m\u001b[0m\n\u001b[1;32m     16\u001b[0m \u001b[0;34m\u001b[0m\u001b[0m\n\u001b[0;32m---> 17\u001b[0;31m \u001b[0mnet\u001b[0m \u001b[0;34m=\u001b[0m \u001b[0mcraft\u001b[0m\u001b[0;34m(\u001b[0m\u001b[0;34m)\u001b[0m\u001b[0;34m.\u001b[0m\u001b[0mcuda\u001b[0m\u001b[0;34m(\u001b[0m\u001b[0;34m)\u001b[0m\u001b[0;34m\u001b[0m\u001b[0;34m\u001b[0m\u001b[0m\n\u001b[0m",
      "\u001b[0;31mNameError\u001b[0m: name 'craft' is not defined"
     ]
    }
   ],
   "source": [
    "import torch\n",
    "import scipy.io as sio\n",
    "import numpy as np\n",
    "import cv2\n",
    "import copy\n",
    "import os\n",
    "import time\n",
    "from craft import CRAFT\n",
    "\n",
    "import torch.onnx\n",
    "\n",
    "\n",
    "\n",
    "# net = craft().cuda() \n",
    "\n",
    "\n",
    "net = CRAFT().cuda() "
   ]
  },
  {
   "cell_type": "code",
   "execution_count": null,
   "id": "294527c5",
   "metadata": {},
   "outputs": [],
   "source": [
    "dummy_data = torch.empty(1, 3, 224, 224, dtype = torch.float32)\n",
    "\n",
    "dummy_data = dummy_data.cuda()\n",
    "\n",
    "ONNX_FILE_PATH = './temp.onnx'\n",
    "\n",
    "torch.onnx.export(net, dummy_data, ONNX_FILE_PATH, input_names=['input'],output_names=['output'], export_params=True)\n"
   ]
  },
  {
   "cell_type": "code",
   "execution_count": null,
   "id": "9ffd1bc6",
   "metadata": {},
   "outputs": [],
   "source": []
  }
 ],
 "metadata": {
  "kernelspec": {
   "display_name": "Python 3",
   "language": "python",
   "name": "python3"
  },
  "language_info": {
   "codemirror_mode": {
    "name": "ipython",
    "version": 3
   },
   "file_extension": ".py",
   "mimetype": "text/x-python",
   "name": "python",
   "nbconvert_exporter": "python",
   "pygments_lexer": "ipython3",
   "version": "3.7.5"
  }
 },
 "nbformat": 4,
 "nbformat_minor": 5
}
